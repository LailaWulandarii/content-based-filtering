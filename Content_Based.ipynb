{
  "nbformat": 4,
  "nbformat_minor": 0,
  "metadata": {
    "colab": {
      "provenance": [],
      "collapsed_sections": [
        "T809pSf0LGvA"
      ],
      "gpuType": "T4"
    },
    "kernelspec": {
      "name": "python3",
      "display_name": "Python 3"
    },
    "language_info": {
      "name": "python"
    },
    "accelerator": "GPU"
  },
  "cells": [
    {
      "cell_type": "markdown",
      "metadata": {
        "id": "H9wADwK78DCz"
      },
      "source": [
        "# Content-Based Product Recommendation System for Fashion Items\n",
        "- **Nama:** Laila Wulandari\n",
        "- **Email:** lailawulandari0811@gmail.com\n",
        "- **ID Dicoding:** laila_wulandari"
      ]
    },
    {
      "cell_type": "markdown",
      "metadata": {
        "id": "T809pSf0LGvA"
      },
      "source": [
        "# 1. Business Understanding"
      ]
    },
    {
      "cell_type": "markdown",
      "metadata": {
        "id": "s5Rbw1fjfucG"
      },
      "source": [
        "## 1. Problem Statements\n",
        "\n",
        "1. Kompleksitas navigasi produk dalam katalog besar seperti Myntra menyebabkan rendahnya efisiensi pencarian dan kesulitan menemukan item dengan atribut spesifik.\n",
        "2. Ketergantungan collaborative filtering pada riwayat interaksi membuatnya tidak efektif untuk produk baru (cold-start) dan item niche.\n",
        "\n",
        "## 2. Goals\n",
        "\n",
        "1.  Mengembangkan sistem rekomendasi berbasis konten yang menyaring banyak produk menjadi 5 teratas dengan kemiripan di atas 60% menggunakan fitur intrinsik.\n",
        "2. Mengoptimalkan kualitas rekomendasi hingga mencapai Precision@5 dan nDCG@5 lebih dari 60% untuk menunjukkan relevansi dan urutan produk yang baik.\n",
        "\n",
        "\n",
        "## 3. Solution Statements\n",
        "\n",
        "Solusi 1: Cosine Similarity\n",
        "Menggunakan TF-IDF dari gabungan deskripsi, merek, dan warna produk untuk menghitung kemiripan berdasarkan arah vektor.\n",
        "\n",
        "Solusi 2: Euclidean Distance\n",
        "Menggunakan TF-IDF dan menghitung jarak antar produk dalam ruang vektor untuk menentukan kemiripan.\n"
      ]
    },
    {
      "cell_type": "markdown",
      "metadata": {
        "id": "Et9mkXcEEJaK"
      },
      "source": [
        "Kode ini mengimpor **library utama** untuk membangun sistem rekomendasi berbasis teks. **Pandas dan NumPy** digunakan untuk manipulasi data, **Matplotlib dan Seaborn** membantu dalam visualisasi, sementara **TF-IDF dan CountVectorizer** digunakan untuk ekstraksi fitur teks. **NLTK** berperan dalam preprocessing teks dengan stopwords dan stemming, sedangkan **Cosine Similarity dan Euclidean Distance** digunakan untuk mengukur kemiripan antar produk. **Warnings** dinonaktifkan untuk menghindari gangguan dalam eksekusi.\n"
      ]
    },
    {
      "cell_type": "code",
      "execution_count": 3,
      "metadata": {
        "id": "lLxkBthOCvHU",
        "colab": {
          "base_uri": "https://localhost:8080/"
        },
        "outputId": "0b1e61ed-b94b-40fd-d371-4ddee31b9b0c"
      },
      "outputs": [
        {
          "output_type": "stream",
          "name": "stderr",
          "text": [
            "[nltk_data] Downloading package stopwords to /root/nltk_data...\n",
            "[nltk_data]   Unzipping corpora/stopwords.zip.\n"
          ]
        }
      ],
      "source": [
        "# --- Manipulasi Data ---\n",
        "import pandas as pd\n",
        "import numpy as np\n",
        "# --- Visualisasi Data ---\n",
        "import matplotlib.pyplot as plt\n",
        "import seaborn as sns\n",
        "# --- Preprocessing Teks ---\n",
        "import re\n",
        "# --- Ekstraksi Fitur Teks ---\n",
        "from sklearn.feature_extraction.text import TfidfVectorizer, CountVectorizer\n",
        "# --- Stopwords dan Stemming ---\n",
        "import nltk\n",
        "nltk.download('stopwords')\n",
        "from nltk.corpus import stopwords\n",
        "from nltk.stem import SnowballStemmer\n",
        "# --- Cosine Similarity ---\n",
        "from sklearn.metrics.pairwise import cosine_similarity, euclidean_distances\n",
        "# --- Penanganan Warning ---\n",
        "import warnings\n",
        "warnings.filterwarnings(\"ignore\")"
      ]
    },
    {
      "cell_type": "markdown",
      "metadata": {
        "id": "fmLziQ51bQ-X"
      },
      "source": [
        "# 3. Data Loading\n",
        "Pada tahap ini dataset akan dimuat, dataset yang digunakan adalah Fashion Clothing Products Dataset."
      ]
    },
    {
      "cell_type": "code",
      "execution_count": 4,
      "metadata": {
        "id": "F4Ox3jkNbZvv"
      },
      "outputs": [],
      "source": [
        "data = pd.read_csv(\"https://raw.githubusercontent.com/LailaWulandarii/content-based-filtering/refs/heads/main/myntra_products_catalog.csv\")"
      ]
    },
    {
      "cell_type": "markdown",
      "metadata": {
        "id": "5hSxmo4jbn60"
      },
      "source": [
        "# 4. Exploratory Data Analysis\n",
        "Tahap ini bertujuan untuk melakukan analisis data untuk memahami karakteristik data sebelum dilakukan permodelan."
      ]
    },
    {
      "cell_type": "code",
      "execution_count": 5,
      "metadata": {
        "colab": {
          "base_uri": "https://localhost:8080/",
          "height": 310
        },
        "id": "A1W4lsDrcZRe",
        "outputId": "cb8d7a6a-1307-4300-990e-1ce778530a69"
      },
      "outputs": [
        {
          "output_type": "execute_result",
          "data": {
            "text/plain": [
              "   ProductID                                        ProductName ProductBrand  \\\n",
              "0   10017413  DKNY Unisex Black & Grey Printed Medium Trolle...         DKNY   \n",
              "1   10016283  EthnoVogue Women Beige & Grey Made to Measure ...   EthnoVogue   \n",
              "2   10009781  SPYKAR Women Pink Alexa Super Skinny Fit High-...       SPYKAR   \n",
              "3   10015921  Raymond Men Blue Self-Design Single-Breasted B...      Raymond   \n",
              "4   10017833  Parx Men Brown & Off-White Slim Fit Printed Ca...         Parx   \n",
              "\n",
              "   Gender  Price (INR)  NumImages  \\\n",
              "0  Unisex        11745          7   \n",
              "1   Women         5810          7   \n",
              "2   Women          899          7   \n",
              "3     Men         5599          5   \n",
              "4     Men          759          5   \n",
              "\n",
              "                                         Description PrimaryColor  \n",
              "0  Black and grey printed medium trolley bag, sec...        Black  \n",
              "1  Beige & Grey made to measure kurta with churid...        Beige  \n",
              "2  Pink coloured wash 5-pocket high-rise cropped ...         Pink  \n",
              "3  Blue self-design bandhgala suitBlue self-desig...         Blue  \n",
              "4  Brown and off-white printed casual shirt, has ...        White  "
            ],
            "text/html": [
              "\n",
              "  <div id=\"df-60e8ffe4-c86a-4305-90dd-18779e7087ef\" class=\"colab-df-container\">\n",
              "    <div>\n",
              "<style scoped>\n",
              "    .dataframe tbody tr th:only-of-type {\n",
              "        vertical-align: middle;\n",
              "    }\n",
              "\n",
              "    .dataframe tbody tr th {\n",
              "        vertical-align: top;\n",
              "    }\n",
              "\n",
              "    .dataframe thead th {\n",
              "        text-align: right;\n",
              "    }\n",
              "</style>\n",
              "<table border=\"1\" class=\"dataframe\">\n",
              "  <thead>\n",
              "    <tr style=\"text-align: right;\">\n",
              "      <th></th>\n",
              "      <th>ProductID</th>\n",
              "      <th>ProductName</th>\n",
              "      <th>ProductBrand</th>\n",
              "      <th>Gender</th>\n",
              "      <th>Price (INR)</th>\n",
              "      <th>NumImages</th>\n",
              "      <th>Description</th>\n",
              "      <th>PrimaryColor</th>\n",
              "    </tr>\n",
              "  </thead>\n",
              "  <tbody>\n",
              "    <tr>\n",
              "      <th>0</th>\n",
              "      <td>10017413</td>\n",
              "      <td>DKNY Unisex Black &amp; Grey Printed Medium Trolle...</td>\n",
              "      <td>DKNY</td>\n",
              "      <td>Unisex</td>\n",
              "      <td>11745</td>\n",
              "      <td>7</td>\n",
              "      <td>Black and grey printed medium trolley bag, sec...</td>\n",
              "      <td>Black</td>\n",
              "    </tr>\n",
              "    <tr>\n",
              "      <th>1</th>\n",
              "      <td>10016283</td>\n",
              "      <td>EthnoVogue Women Beige &amp; Grey Made to Measure ...</td>\n",
              "      <td>EthnoVogue</td>\n",
              "      <td>Women</td>\n",
              "      <td>5810</td>\n",
              "      <td>7</td>\n",
              "      <td>Beige &amp; Grey made to measure kurta with churid...</td>\n",
              "      <td>Beige</td>\n",
              "    </tr>\n",
              "    <tr>\n",
              "      <th>2</th>\n",
              "      <td>10009781</td>\n",
              "      <td>SPYKAR Women Pink Alexa Super Skinny Fit High-...</td>\n",
              "      <td>SPYKAR</td>\n",
              "      <td>Women</td>\n",
              "      <td>899</td>\n",
              "      <td>7</td>\n",
              "      <td>Pink coloured wash 5-pocket high-rise cropped ...</td>\n",
              "      <td>Pink</td>\n",
              "    </tr>\n",
              "    <tr>\n",
              "      <th>3</th>\n",
              "      <td>10015921</td>\n",
              "      <td>Raymond Men Blue Self-Design Single-Breasted B...</td>\n",
              "      <td>Raymond</td>\n",
              "      <td>Men</td>\n",
              "      <td>5599</td>\n",
              "      <td>5</td>\n",
              "      <td>Blue self-design bandhgala suitBlue self-desig...</td>\n",
              "      <td>Blue</td>\n",
              "    </tr>\n",
              "    <tr>\n",
              "      <th>4</th>\n",
              "      <td>10017833</td>\n",
              "      <td>Parx Men Brown &amp; Off-White Slim Fit Printed Ca...</td>\n",
              "      <td>Parx</td>\n",
              "      <td>Men</td>\n",
              "      <td>759</td>\n",
              "      <td>5</td>\n",
              "      <td>Brown and off-white printed casual shirt, has ...</td>\n",
              "      <td>White</td>\n",
              "    </tr>\n",
              "  </tbody>\n",
              "</table>\n",
              "</div>\n",
              "    <div class=\"colab-df-buttons\">\n",
              "\n",
              "  <div class=\"colab-df-container\">\n",
              "    <button class=\"colab-df-convert\" onclick=\"convertToInteractive('df-60e8ffe4-c86a-4305-90dd-18779e7087ef')\"\n",
              "            title=\"Convert this dataframe to an interactive table.\"\n",
              "            style=\"display:none;\">\n",
              "\n",
              "  <svg xmlns=\"http://www.w3.org/2000/svg\" height=\"24px\" viewBox=\"0 -960 960 960\">\n",
              "    <path d=\"M120-120v-720h720v720H120Zm60-500h600v-160H180v160Zm220 220h160v-160H400v160Zm0 220h160v-160H400v160ZM180-400h160v-160H180v160Zm440 0h160v-160H620v160ZM180-180h160v-160H180v160Zm440 0h160v-160H620v160Z\"/>\n",
              "  </svg>\n",
              "    </button>\n",
              "\n",
              "  <style>\n",
              "    .colab-df-container {\n",
              "      display:flex;\n",
              "      gap: 12px;\n",
              "    }\n",
              "\n",
              "    .colab-df-convert {\n",
              "      background-color: #E8F0FE;\n",
              "      border: none;\n",
              "      border-radius: 50%;\n",
              "      cursor: pointer;\n",
              "      display: none;\n",
              "      fill: #1967D2;\n",
              "      height: 32px;\n",
              "      padding: 0 0 0 0;\n",
              "      width: 32px;\n",
              "    }\n",
              "\n",
              "    .colab-df-convert:hover {\n",
              "      background-color: #E2EBFA;\n",
              "      box-shadow: 0px 1px 2px rgba(60, 64, 67, 0.3), 0px 1px 3px 1px rgba(60, 64, 67, 0.15);\n",
              "      fill: #174EA6;\n",
              "    }\n",
              "\n",
              "    .colab-df-buttons div {\n",
              "      margin-bottom: 4px;\n",
              "    }\n",
              "\n",
              "    [theme=dark] .colab-df-convert {\n",
              "      background-color: #3B4455;\n",
              "      fill: #D2E3FC;\n",
              "    }\n",
              "\n",
              "    [theme=dark] .colab-df-convert:hover {\n",
              "      background-color: #434B5C;\n",
              "      box-shadow: 0px 1px 3px 1px rgba(0, 0, 0, 0.15);\n",
              "      filter: drop-shadow(0px 1px 2px rgba(0, 0, 0, 0.3));\n",
              "      fill: #FFFFFF;\n",
              "    }\n",
              "  </style>\n",
              "\n",
              "    <script>\n",
              "      const buttonEl =\n",
              "        document.querySelector('#df-60e8ffe4-c86a-4305-90dd-18779e7087ef button.colab-df-convert');\n",
              "      buttonEl.style.display =\n",
              "        google.colab.kernel.accessAllowed ? 'block' : 'none';\n",
              "\n",
              "      async function convertToInteractive(key) {\n",
              "        const element = document.querySelector('#df-60e8ffe4-c86a-4305-90dd-18779e7087ef');\n",
              "        const dataTable =\n",
              "          await google.colab.kernel.invokeFunction('convertToInteractive',\n",
              "                                                    [key], {});\n",
              "        if (!dataTable) return;\n",
              "\n",
              "        const docLinkHtml = 'Like what you see? Visit the ' +\n",
              "          '<a target=\"_blank\" href=https://colab.research.google.com/notebooks/data_table.ipynb>data table notebook</a>'\n",
              "          + ' to learn more about interactive tables.';\n",
              "        element.innerHTML = '';\n",
              "        dataTable['output_type'] = 'display_data';\n",
              "        await google.colab.output.renderOutput(dataTable, element);\n",
              "        const docLink = document.createElement('div');\n",
              "        docLink.innerHTML = docLinkHtml;\n",
              "        element.appendChild(docLink);\n",
              "      }\n",
              "    </script>\n",
              "  </div>\n",
              "\n",
              "\n",
              "    <div id=\"df-0607e6e9-fea0-45bf-a83b-2b1edcf5de05\">\n",
              "      <button class=\"colab-df-quickchart\" onclick=\"quickchart('df-0607e6e9-fea0-45bf-a83b-2b1edcf5de05')\"\n",
              "                title=\"Suggest charts\"\n",
              "                style=\"display:none;\">\n",
              "\n",
              "<svg xmlns=\"http://www.w3.org/2000/svg\" height=\"24px\"viewBox=\"0 0 24 24\"\n",
              "     width=\"24px\">\n",
              "    <g>\n",
              "        <path d=\"M19 3H5c-1.1 0-2 .9-2 2v14c0 1.1.9 2 2 2h14c1.1 0 2-.9 2-2V5c0-1.1-.9-2-2-2zM9 17H7v-7h2v7zm4 0h-2V7h2v10zm4 0h-2v-4h2v4z\"/>\n",
              "    </g>\n",
              "</svg>\n",
              "      </button>\n",
              "\n",
              "<style>\n",
              "  .colab-df-quickchart {\n",
              "      --bg-color: #E8F0FE;\n",
              "      --fill-color: #1967D2;\n",
              "      --hover-bg-color: #E2EBFA;\n",
              "      --hover-fill-color: #174EA6;\n",
              "      --disabled-fill-color: #AAA;\n",
              "      --disabled-bg-color: #DDD;\n",
              "  }\n",
              "\n",
              "  [theme=dark] .colab-df-quickchart {\n",
              "      --bg-color: #3B4455;\n",
              "      --fill-color: #D2E3FC;\n",
              "      --hover-bg-color: #434B5C;\n",
              "      --hover-fill-color: #FFFFFF;\n",
              "      --disabled-bg-color: #3B4455;\n",
              "      --disabled-fill-color: #666;\n",
              "  }\n",
              "\n",
              "  .colab-df-quickchart {\n",
              "    background-color: var(--bg-color);\n",
              "    border: none;\n",
              "    border-radius: 50%;\n",
              "    cursor: pointer;\n",
              "    display: none;\n",
              "    fill: var(--fill-color);\n",
              "    height: 32px;\n",
              "    padding: 0;\n",
              "    width: 32px;\n",
              "  }\n",
              "\n",
              "  .colab-df-quickchart:hover {\n",
              "    background-color: var(--hover-bg-color);\n",
              "    box-shadow: 0 1px 2px rgba(60, 64, 67, 0.3), 0 1px 3px 1px rgba(60, 64, 67, 0.15);\n",
              "    fill: var(--button-hover-fill-color);\n",
              "  }\n",
              "\n",
              "  .colab-df-quickchart-complete:disabled,\n",
              "  .colab-df-quickchart-complete:disabled:hover {\n",
              "    background-color: var(--disabled-bg-color);\n",
              "    fill: var(--disabled-fill-color);\n",
              "    box-shadow: none;\n",
              "  }\n",
              "\n",
              "  .colab-df-spinner {\n",
              "    border: 2px solid var(--fill-color);\n",
              "    border-color: transparent;\n",
              "    border-bottom-color: var(--fill-color);\n",
              "    animation:\n",
              "      spin 1s steps(1) infinite;\n",
              "  }\n",
              "\n",
              "  @keyframes spin {\n",
              "    0% {\n",
              "      border-color: transparent;\n",
              "      border-bottom-color: var(--fill-color);\n",
              "      border-left-color: var(--fill-color);\n",
              "    }\n",
              "    20% {\n",
              "      border-color: transparent;\n",
              "      border-left-color: var(--fill-color);\n",
              "      border-top-color: var(--fill-color);\n",
              "    }\n",
              "    30% {\n",
              "      border-color: transparent;\n",
              "      border-left-color: var(--fill-color);\n",
              "      border-top-color: var(--fill-color);\n",
              "      border-right-color: var(--fill-color);\n",
              "    }\n",
              "    40% {\n",
              "      border-color: transparent;\n",
              "      border-right-color: var(--fill-color);\n",
              "      border-top-color: var(--fill-color);\n",
              "    }\n",
              "    60% {\n",
              "      border-color: transparent;\n",
              "      border-right-color: var(--fill-color);\n",
              "    }\n",
              "    80% {\n",
              "      border-color: transparent;\n",
              "      border-right-color: var(--fill-color);\n",
              "      border-bottom-color: var(--fill-color);\n",
              "    }\n",
              "    90% {\n",
              "      border-color: transparent;\n",
              "      border-bottom-color: var(--fill-color);\n",
              "    }\n",
              "  }\n",
              "</style>\n",
              "\n",
              "      <script>\n",
              "        async function quickchart(key) {\n",
              "          const quickchartButtonEl =\n",
              "            document.querySelector('#' + key + ' button');\n",
              "          quickchartButtonEl.disabled = true;  // To prevent multiple clicks.\n",
              "          quickchartButtonEl.classList.add('colab-df-spinner');\n",
              "          try {\n",
              "            const charts = await google.colab.kernel.invokeFunction(\n",
              "                'suggestCharts', [key], {});\n",
              "          } catch (error) {\n",
              "            console.error('Error during call to suggestCharts:', error);\n",
              "          }\n",
              "          quickchartButtonEl.classList.remove('colab-df-spinner');\n",
              "          quickchartButtonEl.classList.add('colab-df-quickchart-complete');\n",
              "        }\n",
              "        (() => {\n",
              "          let quickchartButtonEl =\n",
              "            document.querySelector('#df-0607e6e9-fea0-45bf-a83b-2b1edcf5de05 button');\n",
              "          quickchartButtonEl.style.display =\n",
              "            google.colab.kernel.accessAllowed ? 'block' : 'none';\n",
              "        })();\n",
              "      </script>\n",
              "    </div>\n",
              "\n",
              "    </div>\n",
              "  </div>\n"
            ],
            "application/vnd.google.colaboratory.intrinsic+json": {
              "type": "dataframe",
              "variable_name": "data",
              "summary": "{\n  \"name\": \"data\",\n  \"rows\": 12491,\n  \"fields\": [\n    {\n      \"column\": \"ProductID\",\n      \"properties\": {\n        \"dtype\": \"number\",\n        \"std\": 1438005,\n        \"min\": 101206,\n        \"max\": 10275139,\n        \"num_unique_values\": 12491,\n        \"samples\": [\n          10247147,\n          10134531,\n          10186043\n        ],\n        \"semantic_type\": \"\",\n        \"description\": \"\"\n      }\n    },\n    {\n      \"column\": \"ProductName\",\n      \"properties\": {\n        \"dtype\": \"string\",\n        \"num_unique_values\": 10761,\n        \"samples\": [\n          \"Mufti Men Off-White & Brown Regular Fit Checked Casual Shirt\",\n          \"Superman featured Blue Tshirt for Men\",\n          \"AND Women Green Striped A-Line Dress\"\n        ],\n        \"semantic_type\": \"\",\n        \"description\": \"\"\n      }\n    },\n    {\n      \"column\": \"ProductBrand\",\n      \"properties\": {\n        \"dtype\": \"category\",\n        \"num_unique_values\": 677,\n        \"samples\": [\n          \"QUIERO\",\n          \"Deco Window\",\n          \"Ishin\"\n        ],\n        \"semantic_type\": \"\",\n        \"description\": \"\"\n      }\n    },\n    {\n      \"column\": \"Gender\",\n      \"properties\": {\n        \"dtype\": \"category\",\n        \"num_unique_values\": 6,\n        \"samples\": [\n          \"Unisex\",\n          \"Women\",\n          \"Unisex Kids\"\n        ],\n        \"semantic_type\": \"\",\n        \"description\": \"\"\n      }\n    },\n    {\n      \"column\": \"Price (INR)\",\n      \"properties\": {\n        \"dtype\": \"number\",\n        \"std\": 2118,\n        \"min\": 90,\n        \"max\": 63090,\n        \"num_unique_values\": 1543,\n        \"samples\": [\n          708,\n          3699,\n          1371\n        ],\n        \"semantic_type\": \"\",\n        \"description\": \"\"\n      }\n    },\n    {\n      \"column\": \"NumImages\",\n      \"properties\": {\n        \"dtype\": \"number\",\n        \"std\": 1,\n        \"min\": 1,\n        \"max\": 10,\n        \"num_unique_values\": 10,\n        \"samples\": [\n          9,\n          5,\n          2\n        ],\n        \"semantic_type\": \"\",\n        \"description\": \"\"\n      }\n    },\n    {\n      \"column\": \"Description\",\n      \"properties\": {\n        \"dtype\": \"string\",\n        \"num_unique_values\": 10435,\n        \"samples\": [\n          \"A pair of gold-toned open toe sandals, has high-top styling, ankle loop detailSynthetic upperCushioned footbedTextured and patterned outsole, has a stiletto heelWarranty: 1 monthWarranty provided by brand/manufacturer\",\n          \"Blue and white printed kurta with pyjamas Blue and white straight knee length kurta, has a mandarin collar, long sleeves, straight hem, side slitsBlue and white  Solid pyjamas, has elasticated waistband, slip-on closure\",\n          \"Red printed lounge t-shirts, has a round neck, short sleeves.\"\n        ],\n        \"semantic_type\": \"\",\n        \"description\": \"\"\n      }\n    },\n    {\n      \"column\": \"PrimaryColor\",\n      \"properties\": {\n        \"dtype\": \"category\",\n        \"num_unique_values\": 27,\n        \"samples\": [\n          \" Green\",\n          \" Grey\",\n          \" Maroon\"\n        ],\n        \"semantic_type\": \"\",\n        \"description\": \"\"\n      }\n    }\n  ]\n}"
            }
          },
          "metadata": {},
          "execution_count": 5
        }
      ],
      "source": [
        "#Melihat 5 data pertama\n",
        "data.head()"
      ]
    },
    {
      "cell_type": "markdown",
      "metadata": {
        "id": "FyXFby11nB1Q"
      },
      "source": [
        "Tahapan pertama yang dilakukan dalam EDA, yaitu melihat 5 data pertama pada dataset untuk keseluruhan kolom."
      ]
    },
    {
      "cell_type": "code",
      "execution_count": 6,
      "metadata": {
        "colab": {
          "base_uri": "https://localhost:8080/"
        },
        "id": "RkQRcfkO1pzl",
        "outputId": "3d806806-7135-47ac-c6b7-ceaa889ad1f3"
      },
      "outputs": [
        {
          "output_type": "stream",
          "name": "stdout",
          "text": [
            "<class 'pandas.core.frame.DataFrame'>\n",
            "RangeIndex: 12491 entries, 0 to 12490\n",
            "Data columns (total 8 columns):\n",
            " #   Column        Non-Null Count  Dtype \n",
            "---  ------        --------------  ----- \n",
            " 0   ProductID     12491 non-null  int64 \n",
            " 1   ProductName   12491 non-null  object\n",
            " 2   ProductBrand  12491 non-null  object\n",
            " 3   Gender        12491 non-null  object\n",
            " 4   Price (INR)   12491 non-null  int64 \n",
            " 5   NumImages     12491 non-null  int64 \n",
            " 6   Description   12491 non-null  object\n",
            " 7   PrimaryColor  11597 non-null  object\n",
            "dtypes: int64(3), object(5)\n",
            "memory usage: 780.8+ KB\n"
          ]
        }
      ],
      "source": [
        "#Melihat informasi umum dataset\n",
        "data.info()"
      ]
    },
    {
      "cell_type": "markdown",
      "metadata": {
        "id": "xln7A3W-nB1Q"
      },
      "source": [
        "Tahapan selanjutnya adalah mengecek informasi umum dataset. Berdasarkan hasil tersebut, dataset yang digunakan memiliki 8 kolom numerikal dan kategorikal dengan total 12491 data."
      ]
    },
    {
      "cell_type": "code",
      "source": [
        "#Cek data kosong\n",
        "print(\"Jumlah missing value:\")\n",
        "print(data.isnull().sum())"
      ],
      "metadata": {
        "colab": {
          "base_uri": "https://localhost:8080/"
        },
        "id": "9LvLAHoG_3on",
        "outputId": "5c4ee99e-f094-415e-e38e-cc837becad2c"
      },
      "execution_count": 7,
      "outputs": [
        {
          "output_type": "stream",
          "name": "stdout",
          "text": [
            "Jumlah missing value:\n",
            "ProductID         0\n",
            "ProductName       0\n",
            "ProductBrand      0\n",
            "Gender            0\n",
            "Price (INR)       0\n",
            "NumImages         0\n",
            "Description       0\n",
            "PrimaryColor    894\n",
            "dtype: int64\n"
          ]
        }
      ]
    },
    {
      "cell_type": "markdown",
      "metadata": {
        "id": "JCy_rWP8nB1R"
      },
      "source": [
        "Pada tahap ini ditemukan adanya missing value pada kolom PrimaryColor sebanyak 894, yang nantinya akan ditangani sbeelum masuk ke tahap modeling."
      ]
    },
    {
      "cell_type": "code",
      "execution_count": 8,
      "metadata": {
        "colab": {
          "base_uri": "https://localhost:8080/",
          "height": 797
        },
        "id": "w-O1TdDT5KOl",
        "outputId": "b85982eb-30ed-4c81-a5c6-b07e2dce364e"
      },
      "outputs": [
        {
          "output_type": "display_data",
          "data": {
            "text/plain": [
              "<Figure size 800x400 with 1 Axes>"
            ],
            "image/png": "[encoded data removed]"
          },
          "metadata": {}
        },
        {
          "output_type": "display_data",
          "data": {
            "text/plain": [
              "<Figure size 600x400 with 1 Axes>"
            ],
            "image/png": "[encoded data removed]"
          },
          "metadata": {}
        }
      ],
      "source": [
        "#Visualisasi untuk 10 merek produk teratas dengan grafik batang\n",
        "plt.figure(figsize=(8, 4))\n",
        "data['ProductBrand'].value_counts().head(10).plot(kind='bar')\n",
        "plt.title(\"Top 10 Merek Produk\")\n",
        "plt.ylabel(\"Jumlah\")\n",
        "plt.xlabel(\"Brand\")\n",
        "plt.tight_layout()\n",
        "plt.show()\n",
        "\n",
        "#Visualisasi histogram untuk melihat distribusi harga produk\n",
        "plt.figure(figsize=(6, 4))\n",
        "sns.histplot(data['Price (INR)'], bins=30)\n",
        "plt.title(\"Distribusi Harga Produk\")\n",
        "plt.xlabel(\"Harga (INR)\")\n",
        "plt.tight_layout()\n",
        "plt.show()\n"
      ]
    },
    {
      "cell_type": "markdown",
      "metadata": {
        "id": "mFzbRdM2nB1T"
      },
      "source": [
        "Selanjutnya dilakukan visualisasi data, berikut hasilnya:\n",
        "\n",
        "*   Top 10 merek = Indian Terrain mendominasi dengan jumlah produk terbanyak, sementara merek lain seperti Puma dan Pepe Jeans bersaing cukup ketat. Sebagian besar merek memiliki kurang dari 400 produk, menunjukkan variasi popularitas di pasar.\n",
        "*   Distribusi harga produk = Harga produk sebagian besar terkonsentrasi pada rentang tertentu, menunjukkan kecenderungan pasar terhadap harga spesifik. Lonjakan pada titik harga tertentu bisa mengindikasikan popularitas atau segmentasi konsumen."
      ]
    },
    {
      "cell_type": "markdown",
      "metadata": {
        "id": "jQerB4g0b1Hu"
      },
      "source": [
        "# 5. Preprocessing\n",
        "Pada tahap ini dilakukan preprocessing data untuk menyiapkan fitur dan target yang optimal untuk pemodelan, membagi dataset secara proporsional dan melakukan standardisasi nilai fitur.\n"
      ]
    },
    {
      "cell_type": "code",
      "source": [
        "#Mengisi nilai kosong pada kolom 'PrimaryColor' dengan 'Unknown'\n",
        "data['PrimaryColor'] = data['PrimaryColor'].fillna('Unknown')"
      ],
      "metadata": {
        "id": "eYhO_t3B5fTE"
      },
      "execution_count": 9,
      "outputs": []
    },
    {
      "cell_type": "markdown",
      "source": [
        "Kode di atas menangani data kosong pada kolom 'PrimaryColor', mengisinya  dengan string 'Unknown'"
      ],
      "metadata": {
        "id": "nG0dP-n1ACom"
      }
    },
    {
      "cell_type": "code",
      "source": [
        "def clean_text(text):\n",
        "    if not isinstance(text, str):  #Memastikan input adalah string\n",
        "        return \"\"\n",
        "\n",
        "    #Menghapus karakter khusus dan angka, lalu mengubah ke huruf kecil\n",
        "    text = re.sub(r\"[^a-zA-Z\\s]\", \"\", text.lower())\n",
        "\n",
        "    #Daftar stopwords khusus untuk domain fashion\n",
        "    custom_stopwords = set(stopwords.words('english')) | {\n",
        "        'size', 'cm', 'inch', 'pack', 'item', 'made'\n",
        "    }\n",
        "\n",
        "    #Tokenisasi dan penghapusan stopwords\n",
        "    words = [word for word in text.split()\n",
        "             if word not in custom_stopwords and len(word) > 2]\n",
        "\n",
        "    #Stemming untuk menyederhanakan kata\n",
        "    stemmer = SnowballStemmer(\"english\")\n",
        "    words = [stemmer.stem(word) for word in words]\n",
        "\n",
        "    return \" \".join(words)"
      ],
      "metadata": {
        "id": "zrXYtzFq5iEM"
      },
      "execution_count": 10,
      "outputs": []
    },
    {
      "cell_type": "markdown",
      "source": [
        "Kode di atas untuk membersihkan teks dengan stopwords khusus, serta menerapkan stemming untuk menyederhanakan kata"
      ],
      "metadata": {
        "id": "FWjLli2vAPMO"
      }
    },
    {
      "cell_type": "code",
      "source": [
        "#Mengekstrak kata kunci warna dari deskripsi produk\n",
        "color_keywords = r'\\b(black|blue|red|green|yellow|white|gray|pink|navy|maroon)\\b'\n",
        "data['extracted_color'] = data['Description'].str.extract(color_keywords, flags=re.IGNORECASE)"
      ],
      "metadata": {
        "id": "etGi4tg-5kTx"
      },
      "execution_count": 11,
      "outputs": []
    },
    {
      "cell_type": "markdown",
      "source": [
        "Kode di atas untuk mengekstrak warna dari kolom deskripsi."
      ],
      "metadata": {
        "id": "RBK9O56-CKwO"
      }
    },
    {
      "cell_type": "code",
      "source": [
        "#Meningkatkan bobot kata kunci penting\n",
        "def boost_keywords(text):\n",
        "    keywords = {\n",
        "        'raymond': 'raymond raymond raymond',\n",
        "        'dkny': 'dkny dkny dkny',\n",
        "        'black': 'black black',\n",
        "        'design': 'design design'\n",
        "    }\n",
        "    for k, v in keywords.items():\n",
        "        text = text.replace(k, v)\n",
        "    return text"
      ],
      "metadata": {
        "id": "NZBZWR-E5mUm"
      },
      "execution_count": 12,
      "outputs": []
    },
    {
      "cell_type": "markdown",
      "source": [
        "Kode di atas untuk meningkatkan bobot pada kata kunci penting."
      ],
      "metadata": {
        "id": "Q6HnmoFXCTRF"
      }
    },
    {
      "cell_type": "code",
      "source": [
        "#Menggabungkan informasi produk untuk membentuk fitur teks\n",
        "data['text_features'] = (\n",
        "    data['ProductName'] + \" \" +\n",
        "    data['Description'] + \" \" +\n",
        "    data['ProductBrand'] + \" \" +\n",
        "    data['PrimaryColor'] + \" \" +\n",
        "    data['extracted_color'].fillna('')\n",
        ")"
      ],
      "metadata": {
        "id": "YM5875s45pI_"
      },
      "execution_count": 13,
      "outputs": []
    },
    {
      "cell_type": "markdown",
      "source": [
        "Kode di atas berfungsi untuk menggabungkan informasi produk dalam pembentukan fitur teks."
      ],
      "metadata": {
        "id": "aGIE4dgoCglV"
      }
    },
    {
      "cell_type": "code",
      "source": [
        "#Menerapkan pembersihan teks dan peningkatan kata kunci\n",
        "data['text_features'] = data['text_features'].apply(clean_text).apply(boost_keywords)"
      ],
      "metadata": {
        "id": "eE-1fR8oQ2nh"
      },
      "execution_count": 14,
      "outputs": []
    },
    {
      "cell_type": "markdown",
      "source": [
        "Kode di atas untuk menerapkan pembersihan teks dan peningkatan kata kunci yang telah dilakukan sebelumnya."
      ],
      "metadata": {
        "id": "0jxIgbucCmjl"
      }
    },
    {
      "cell_type": "code",
      "source": [
        "#Membuat objek TF-IDF Vectorizer dengan stopwords bahasa Inggris\n",
        "tfidf = TfidfVectorizer(stop_words='english')\n",
        "\n",
        "#Mengubah teks fitur menjadi representasi numerik TF-IDF\n",
        "tfidf_matrix = tfidf.fit_transform(data['text_features'])"
      ],
      "metadata": {
        "id": "HuYGNipL4pmF"
      },
      "execution_count": 15,
      "outputs": []
    },
    {
      "cell_type": "markdown",
      "source": [
        "Kode di atas untuk mengubah teks menjadi numerik dengan TF-IDF dengan stopwords bahasa inggris."
      ],
      "metadata": {
        "id": "2B3aCjMwCuMs"
      }
    },
    {
      "cell_type": "markdown",
      "source": [
        "## 6. Modeling"
      ],
      "metadata": {
        "id": "b0l74Ik7fyf6"
      }
    },
    {
      "cell_type": "markdown",
      "source": [
        "Tahap modeling dilakukan dengan menggunakan pendekatan Cosine Similarity dan Euclidean Distance."
      ],
      "metadata": {
        "id": "msFp5qBmb4rf"
      }
    },
    {
      "cell_type": "markdown",
      "source": [
        "### 6.1 Cosine Similarity"
      ],
      "metadata": {
        "id": "BndvPlWthDLL"
      }
    },
    {
      "cell_type": "markdown",
      "source": [
        "Kode ini menghitung Cosine Similarity untuk menemukan tingkat kemiripan antar semua item dalam dataset berdasarkan representasi teks TF-IDF, memungkinkan sistem rekomendasi berbasis konten menghasilkan produk yang paling relevan."
      ],
      "metadata": {
        "id": "gn1OeXK0Kt_F"
      }
    },
    {
      "cell_type": "code",
      "source": [
        "#Menghitung cosine similarity antar semua item\n",
        "cosine_sim_matrix = cosine_similarity(tfidf_matrix, tfidf_matrix)"
      ],
      "metadata": {
        "id": "8mT9rAbHiC9M"
      },
      "execution_count": 16,
      "outputs": []
    },
    {
      "cell_type": "markdown",
      "source": [
        "### 6.2 Euclidean Distance"
      ],
      "metadata": {
        "id": "ZjetoMIehK7Z"
      }
    },
    {
      "cell_type": "markdown",
      "source": [
        "Kode ini menghitung Euclidean Distance antara produk berdasarkan representasi TF-IDF, di mana nilai yang lebih kecil menunjukkan kemiripan lebih tinggi karena produk berada lebih dekat dalam ruang vektor."
      ],
      "metadata": {
        "id": "6CQFzmGdLFr3"
      }
    },
    {
      "cell_type": "code",
      "source": [
        "#Hitung Euclidean Distance antar produk\n",
        "euclidean_sim = euclidean_distances(tfidf_matrix, tfidf_matrix)\n"
      ],
      "metadata": {
        "id": "lnSru-rDJPG8"
      },
      "execution_count": 17,
      "outputs": []
    },
    {
      "cell_type": "markdown",
      "source": [
        "## 7. Top-N Recommendation"
      ],
      "metadata": {
        "id": "TJbaobJChg0K"
      }
    },
    {
      "cell_type": "markdown",
      "source": [
        "Kode ini mencari 5 produk paling mirip dengan 'Casual shirt' menggunakan Cosine Similarity dan Euclidean Distance. Kedua metode menghasilkan rekomendasi yang hampir identik, menunjukkan bahwa produk dalam dataset memiliki deskripsi yang sangat mirip. Cosine Similarity menangkap hubungan semantik antar kata, sementara Euclidean Distance mengukur kedekatan numerik dalam ruang vektor."
      ],
      "metadata": {
        "id": "2BrMvNZwMogV"
      }
    },
    {
      "cell_type": "code",
      "source": [
        "#Fungsi untuk memberikan rekomendasi produk\n",
        "def recommended(product_name, similarity_matrix, top_n=5, similarity_type='cosine'):\n",
        "    #Temukan index dari produk\n",
        "    idx = data[data['ProductName'].str.contains(product_name, case=False, na=False)].index[0]\n",
        "\n",
        "    #Ambil skor similarity\n",
        "    sim_scores = list(enumerate(similarity_matrix[idx]))\n",
        "\n",
        "    #Urutkan berdasarkan jenis similarity\n",
        "    if similarity_type == 'cosine':\n",
        "        sim_scores = sorted(sim_scores, key=lambda x: x[1], reverse=True)\n",
        "    else:  #untuk euclidean dan jarak lain\n",
        "        sim_scores = sorted(sim_scores, key=lambda x: x[1])\n",
        "\n",
        "    #Ambil top_n produk selain dirinya sendiri\n",
        "    top_indices = [i[0] for i in sim_scores if i[0] != idx][:top_n]\n",
        "\n",
        "    return data['ProductName'].iloc[top_indices].tolist()\n",
        "\n",
        "#Produk yang akan dicari rekomendasinya\n",
        "produk_input = \"Casual Shirt\"\n",
        "\n",
        "#Menampilkan rekomendasi berdasarkan Cosine Similarity\n",
        "print(\"\\nRekomendasi dengan Cosine Similarity:\")\n",
        "print(recommended(produk_input, cosine_sim_matrix, top_n=5, similarity_type='cosine'))\n",
        "\n",
        "#Menampilkan rekomendasi berdasarkan Euclidean Distance\n",
        "print(\"\\nRekomendasi dengan Euclidean Distance:\")\n",
        "print(recommended(produk_input, euclidean_sim, top_n=5, similarity_type='euclidean'))"
      ],
      "metadata": {
        "colab": {
          "base_uri": "https://localhost:8080/"
        },
        "id": "GCBVvknSibn_",
        "outputId": "8dc634dc-8732-4ed2-b088-b0ef9c28c350"
      },
      "execution_count": 24,
      "outputs": [
        {
          "output_type": "stream",
          "name": "stdout",
          "text": [
            "\n",
            "Rekomendasi dengan Cosine Similarity:\n",
            "['Parx Men Off-White & Blue Slim Fit Printed Casual Shirt', 'Parx Men Blue & Off-White Slim Fit Printed Casual Shirt', 'Parx Men Blue & Off-White Slim Fit Printed Casual Shirt', 'Parx Men White Slim Fit Printed Casual Shirt', 'Parx Men Pink & Off-White Slim Fit Printed Casual Shirt']\n",
            "\n",
            "Rekomendasi dengan Euclidean Distance:\n",
            "['Parx Men Off-White & Blue Slim Fit Printed Casual Shirt', 'Parx Men Blue & Off-White Slim Fit Printed Casual Shirt', 'Parx Men Blue & Off-White Slim Fit Printed Casual Shirt', 'Parx Men White Slim Fit Printed Casual Shirt', 'Parx Men Pink & Off-White Slim Fit Printed Casual Shirt']\n"
          ]
        }
      ]
    },
    {
      "cell_type": "markdown",
      "source": [
        "## 8. Evaluation\n",
        "\n",
        "Pada tahap ini dilakukan evaluasi dengan Precision@K yang fokus pada jumlah item relevan dan NDCG@K untuk mempertimbangkan posisi item dalam daftar rekomendasi.\n"
      ],
      "metadata": {
        "id": "1pJh0707hQog"
      }
    },
    {
      "cell_type": "code",
      "source": [
        "#Fungsi Precision@K\n",
        "def precision_at_k(recommended_indices, relevant_indices, k=5):\n",
        "    recommended_k = recommended_indices[:k]  #Ambil top-k rekomendasi\n",
        "    relevant_set = set(relevant_indices)  #Konversi daftar relevan ke set untuk pencarian cepat\n",
        "    hits = sum(1 for idx in recommended_k if idx in relevant_set)  #Hitung jumlah rekomendasi yang benar\n",
        "    return hits / k  #Precision dihitung sebagai rasio rekomendasi yang benar terhadap k\n",
        "\n",
        "#Fungsi nDCG@K\n",
        "def ndcg_at_k(recommended_indices, relevant_indices, k=5):\n",
        "    dcg = 0.0\n",
        "    relevant_set = set(relevant_indices)  #Konversi daftar relevan ke set\n",
        "    for i, idx in enumerate(recommended_indices[:k]):\n",
        "        if idx in relevant_set:\n",
        "            dcg += 1 / np.log2(i + 2)  #Hitung DCG berdasarkan posisi item relevan\n",
        "    idcg = sum(1 / np.log2(i + 2) for i in range(min(len(relevant_indices), k)))  #Hitung IDCG sebagai ideal DCG\n",
        "    return dcg / idcg if idcg > 0 else 0.0  #Normalisasi DCG untuk mendapatkan nDCG"
      ],
      "metadata": {
        "id": "yHmmkwfSP-qu"
      },
      "execution_count": 19,
      "outputs": []
    },
    {
      "cell_type": "markdown",
      "source": [
        "Kode ini mengevaluasi kualitas rekomendasi dengan Precision@K, yang mengukur proporsi item relevan dalam top-k rekomendasi, dan nDCG@K, yang mempertimbangkan posisi item relevan untuk memberikan bobot lebih tinggi pada rekomendasi yang muncul lebih awal."
      ],
      "metadata": {
        "id": "cHEG1wJORh5i"
      }
    },
    {
      "cell_type": "code",
      "source": [
        "#Menentukan nilai K untuk evaluasi\n",
        "k = 5\n",
        "\n",
        "#List untuk menyimpan skor evaluasi\n",
        "precision_scores_cosine = []\n",
        "ndcg_scores_cosine = []\n",
        "precision_scores_euclidean = []\n",
        "ndcg_scores_euclidean = []\n",
        "\n",
        "#Pilih 100 sampel acak dari dataset untuk evaluasi\n",
        "sample_indices = np.random.choice(data.index, size=100, replace=False)\n",
        "\n",
        "for idx in sample_indices:\n",
        "    #Ambil brand dan gender produk saat ini\n",
        "    current_brand = data.loc[idx, 'ProductBrand']\n",
        "    current_gender = data.loc[idx, 'Gender']\n",
        "\n",
        "    #Temukan produk relevan dengan brand dan gender yang sama, kecuali produk itu sendiri\n",
        "    relevant = data[\n",
        "        (data['ProductBrand'] == current_brand) &\n",
        "        (data['Gender'] == current_gender) &\n",
        "        (data.index != idx)\n",
        "    ].index.tolist()\n",
        "\n",
        "    #Hitung skor kemiripan menggunakan Cosine Similarity\n",
        "    sim_scores_cosine = list(enumerate(cosine_sim_matrix[idx]))\n",
        "    sim_scores_cosine = sorted(sim_scores_cosine, key=lambda x: x[1], reverse=True)\n",
        "    recommended_cosine = [i[0] for i in sim_scores_cosine[1:k+1]]\n",
        "\n",
        "    #Hitung skor kemiripan menggunakan Euclidean Distance\n",
        "    sim_scores_euclidean = list(enumerate(euclidean_sim[idx]))\n",
        "    sim_scores_euclidean = sorted(sim_scores_euclidean, key=lambda x: x[1])  #Euclidean: jarak kecil = lebih mirip\n",
        "    recommended_euclidean = [i[0] for i in sim_scores_euclidean[1:k+1]]\n",
        "\n",
        "    #Evaluasi rekomendasi dengan Precision@K dan nDCG@K untuk Cosine Similarity\n",
        "    precision_scores_cosine.append(precision_at_k(recommended_cosine, relevant, k))\n",
        "    ndcg_scores_cosine.append(ndcg_at_k(recommended_cosine, relevant, k))\n",
        "\n",
        "    #Evaluasi rekomendasi dengan Precision@K dan nDCG@K untuk Euclidean Distance\n",
        "    precision_scores_euclidean.append(precision_at_k(recommended_euclidean, relevant, k))\n",
        "    ndcg_scores_euclidean.append(ndcg_at_k(recommended_euclidean, relevant, k))"
      ],
      "metadata": {
        "id": "dY44Jrc0WgY_"
      },
      "execution_count": 20,
      "outputs": []
    },
    {
      "cell_type": "markdown",
      "source": [
        "Kode ini mengevaluasi kualitas rekomendasi dengan Precision@K dan nDCG@K, menggunakan Cosine Similarity dan Euclidean Distance untuk mengukur kemiripan produk berdasarkan deskripsi teks. Cosine Similarity lebih efektif dalam menangkap hubungan semantik antar produk, sementara Euclidean Distance mengukur kedekatan numerik dalam ruang vektor."
      ],
      "metadata": {
        "id": "UeoDf4E-Rxtx"
      }
    },
    {
      "cell_type": "code",
      "source": [
        "#Cetak rata-rata Precision@K dan nDCG@K untuk Cosine Similarity\n",
        "print(f\"Average Precision@{k} - Cosine Similarity: {np.mean(precision_scores_cosine):.4f}\")\n",
        "print(f\"Average nDCG@{k} - Cosine Similarity: {np.mean(ndcg_scores_cosine):.4f}\\n\")\n",
        "\n",
        "#Cetak rata-rata Precision@K dan nDCG@K untuk Euclidean Distance\n",
        "print(f\"Average Precision@{k} - Euclidean Distance: {np.mean(precision_scores_euclidean):.4f}\")\n",
        "print(f\"Average nDCG@{k} - Euclidean Distance: {np.mean(ndcg_scores_euclidean):.4f}\")"
      ],
      "metadata": {
        "colab": {
          "base_uri": "https://localhost:8080/"
        },
        "id": "LQgjY7yZD1bt",
        "outputId": "2777a6a4-cd86-4b4c-ac35-6408448d6ef9"
      },
      "execution_count": 25,
      "outputs": [
        {
          "output_type": "stream",
          "name": "stdout",
          "text": [
            "Average Precision@5 - Cosine Similarity: 0.6460\n",
            "Average nDCG@5 - Cosine Similarity: 0.6804\n",
            "\n",
            "Average Precision@5 - Euclidean Distance: 0.6460\n",
            "Average nDCG@5 - Euclidean Distance: 0.6804\n"
          ]
        }
      ]
    },
    {
      "cell_type": "markdown",
      "source": [
        "Hasil ini menunjukkan bahwa Cosine Similarity dan Euclidean Distance memberikan performa yang sama dalam merekomendasikan produk, dengan Precision@5 sekitar 64.6%—yang berarti 3-4 dari 5 rekomendasi berada dalam daftar produk relevan. nDCG@5 sebesar 68.04% menunjukkan bahwa posisi item relevan dalam daftar rekomendasi cukup baik, tetapi masih ada ruang untuk perbaikan dalam pengurutan hasil agar produk paling relevan muncul lebih awal."
      ],
      "metadata": {
        "id": "FVZycoWPcB9B"
      }
    }
  ]
}